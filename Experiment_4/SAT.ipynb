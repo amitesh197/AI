{
  "nbformat": 4,
  "nbformat_minor": 0,
  "metadata": {
    "colab": {
      "provenance": []
    },
    "kernelspec": {
      "name": "python3",
      "display_name": "Python 3"
    },
    "language_info": {
      "name": "python"
    }
  },
  "cells": [
    {
      "cell_type": "code",
      "source": [
        "import random\n",
        "\n",
        "def sat_formula(A, B, C, D, E):\n",
        "    clause1 = (A or B)\n",
        "    clause2 = (A and not C)\n",
        "    clause3 = (B and D)\n",
        "    clause4 = (A or not E)\n",
        "\n",
        "    return clause1 and clause2 and clause3 and clause4\n",
        "\n",
        "def objective_function(A, B, C, D, E):\n",
        "    return sum([not sat_formula(A, B, C, D, E)])\n",
        "\n",
        "def random_initial_state():\n",
        "    return {var: random.choice([True, False]) for var in ['A', 'B', 'C', 'D', 'E']}\n",
        "\n",
        "def local_search(state):\n",
        "    while True:\n",
        "        neighbors = neighborhood_structure(state)\n",
        "        best_neighbor = min(neighbors, key=lambda s: objective_function(**s))\n",
        "        if objective_function(**best_neighbor) >= objective_function(**state):\n",
        "            break\n",
        "        state = best_neighbor\n",
        "    return state\n",
        "\n",
        "def neighborhood_structure(state):\n",
        "    neighbors = []\n",
        "    for var, value in state.items():\n",
        "        neighbor = state.copy()\n",
        "        neighbor[var] = not value\n",
        "        neighbors.append(neighbor)\n",
        "    return neighbors\n",
        "\n",
        "num_iterations = 20\n",
        "\n",
        "best_state = None\n",
        "best_cost = float('inf')\n",
        "for _ in range(num_iterations):\n",
        "    current_state = random_initial_state()\n",
        "    current_state = local_search(current_state)\n",
        "    current_cost = objective_function(**current_state)\n",
        "    if current_cost < best_cost:\n",
        "        best_state = current_state\n",
        "        best_cost = current_cost\n",
        "\n",
        "print(\"Final Assignment after\", num_iterations, \"Iterations:\")\n",
        "print(best_state)\n",
        "print(\"Number of Unsatisfied Clauses:\", objective_function(**best_state))\n"
      ],
      "metadata": {
        "colab": {
          "base_uri": "https://localhost:8080/"
        },
        "id": "g4T9hhNUI1bl",
        "outputId": "41b878eb-6872-43b2-e4cf-0577e190ec27"
      },
      "execution_count": 2,
      "outputs": [
        {
          "output_type": "stream",
          "name": "stdout",
          "text": [
            "Final Assignment after 20 Iterations:\n",
            "{'A': True, 'B': True, 'C': False, 'D': True, 'E': True}\n",
            "Number of Unsatisfied Clauses: 0\n"
          ]
        }
      ]
    },
    {
      "cell_type": "code",
      "source": [],
      "metadata": {
        "id": "rmbh8QU0EuLo"
      },
      "execution_count": null,
      "outputs": []
    }
  ]
}