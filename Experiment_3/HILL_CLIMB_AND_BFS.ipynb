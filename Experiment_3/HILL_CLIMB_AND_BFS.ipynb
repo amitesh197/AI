{
  "nbformat": 4,
  "nbformat_minor": 0,
  "metadata": {
    "colab": {
      "provenance": []
    },
    "kernelspec": {
      "name": "python3",
      "display_name": "Python 3"
    },
    "language_info": {
      "name": "python"
    }
  },
  "cells": [
    {
      "cell_type": "code",
      "execution_count": null,
      "metadata": {
        "colab": {
          "base_uri": "https://localhost:8080/"
        },
        "id": "JRQstAm9rN1x",
        "outputId": "0316b3af-d48d-4738-da15-c0584b5d5d04"
      },
      "outputs": [
        {
          "output_type": "stream",
          "name": "stdout",
          "text": [
            "Enter the inital test's blocks from bottom to top\n",
            "Enter the number of blocks in i1: 4\n",
            "Enter block 1 for i1: D\n",
            "Enter block 2 for i1: C\n",
            "Enter block 3 for i1: B\n",
            "Enter block 4 for i1: A\n",
            "Enter the number of blocks in i2: 2\n",
            "Enter block 1 for i2: F\n",
            "Enter block 2 for i2: E\n",
            "['D', 'C', 'B', 'A']\n",
            "['F', 'E']\n"
          ]
        }
      ],
      "source": [
        "print(\"Enter the inital test's blocks from bottom to top\")\n",
        "\n",
        "i1 = []\n",
        "i2 = []\n",
        "\n",
        "n1 = int(input(\"Enter the number of blocks in i1: \"))\n",
        "for i in range(n1):\n",
        "    i1.append(input(f\"Enter block {i + 1} for i1: \"))\n",
        "\n",
        "n2 = int(input(\"Enter the number of blocks in i2: \"))\n",
        "for i in range(n2):\n",
        "    i2.append(input(f\"Enter block {i + 1} for i2: \"))\n",
        "\n",
        "print(i1)\n",
        "print(i2)"
      ]
    },
    {
      "cell_type": "code",
      "source": [
        "initial_table = [i1, i2]\n",
        "print(initial_table)"
      ],
      "metadata": {
        "colab": {
          "base_uri": "https://localhost:8080/"
        },
        "id": "ixFKjI4vrP19",
        "outputId": "0afdcd18-c798-4a1d-b5a7-4d149fccad55"
      },
      "execution_count": null,
      "outputs": [
        {
          "output_type": "stream",
          "name": "stdout",
          "text": [
            "[['D', 'C', 'B', 'A'], ['F', 'E']]\n"
          ]
        }
      ]
    },
    {
      "cell_type": "code",
      "source": [
        "print(\"Enter the goal test's blocks from bottom to top\")\n",
        "\n",
        "i3 = []\n",
        "i4 = []\n",
        "\n",
        "n3 = int(input(\"Enter the number of blocks in i1: \"))\n",
        "for i in range(n3):\n",
        "    i3.append(input(f\"Enter block {i + 1} for i1: \"))\n",
        "\n",
        "n4 = int(input(\"Enter the number of blocks in i1: \"))\n",
        "for i in range(n4):\n",
        "    i4.append(input(f\"Enter block {i + 1} for i1: \"))\n",
        "\n",
        "print(i3)\n",
        "print(i4)"
      ],
      "metadata": {
        "colab": {
          "base_uri": "https://localhost:8080/"
        },
        "id": "Oq-xpRJbrP-7",
        "outputId": "216cc509-d4f0-40cc-fc8f-b09017929c5e"
      },
      "execution_count": null,
      "outputs": [
        {
          "output_type": "stream",
          "name": "stdout",
          "text": [
            "Enter the goal test's blocks from bottom to top\n",
            "Enter the number of blocks in i1: 5\n",
            "Enter block 1 for i1: D\n",
            "Enter block 2 for i1: C\n",
            "Enter block 3 for i1: B\n",
            "Enter block 4 for i1: E\n",
            "Enter block 5 for i1: A\n",
            "Enter the number of blocks in i1: 1\n",
            "Enter block 1 for i1: F\n",
            "['D', 'C', 'B', 'E', 'A']\n",
            "['F']\n"
          ]
        }
      ]
    },
    {
      "cell_type": "code",
      "source": [
        "goal_table = [i3, i4]\n",
        "print(goal_table)"
      ],
      "metadata": {
        "colab": {
          "base_uri": "https://localhost:8080/"
        },
        "id": "Nh3KrMfDrR8b",
        "outputId": "5d076688-db8f-42c8-d7dc-0a984fc2dfa3"
      },
      "execution_count": null,
      "outputs": [
        {
          "output_type": "stream",
          "name": "stdout",
          "text": [
            "[['D', 'C', 'B', 'E', 'A'], ['F']]\n"
          ]
        }
      ]
    },
    {
      "cell_type": "code",
      "source": [
        "#HILL CLIMBING\n",
        "\n",
        "def heuristic_h1(state, goal_state):\n",
        "  misplaced_blocks = 0\n",
        "  for i in range(len(state)):\n",
        "    for j in range(len(state[i])):\n",
        "      if state[i][j] not in goal_state[i]:\n",
        "        misplaced_blocks += 1\n",
        "  return misplaced_blocks\n",
        "\n",
        "def heuristic_h2(state, goal_state):\n",
        "  total_moves = 0\n",
        "  for i in range(len(state)):\n",
        "    for block in state[i]:\n",
        "      if block != ' ':\n",
        "        if block in goal_state[i]:\n",
        "          target_i = goal_state[i].index(block)\n",
        "          total_moves += abs(target_i - i)\n",
        "        else:\n",
        "          total_moves += 1\n",
        "  return total_moves\n",
        "\n",
        "def hill_climbing_with_path(initial_state, heuristic, goal_state):\n",
        "    current_state = initial_state\n",
        "    best_state = current_state\n",
        "    path = [current_state]\n",
        "\n",
        "    while True:\n",
        "        neighbors = generate_neighbors(current_state)\n",
        "        for neighbor in neighbors:\n",
        "            if heuristic(neighbor, goal_state) < heuristic(best_state, goal_state):\n",
        "                best_state = neighbor\n",
        "\n",
        "        if heuristic(best_state, goal_state) >= heuristic(current_state, goal_state):\n",
        "            break\n",
        "\n",
        "        current_state = best_state\n",
        "        path.append(current_state)\n",
        "\n",
        "    return path\n",
        "\n",
        "print(\"Hill Climbing with H1:\")\n",
        "path_h1 = hill_climbing_with_path(initial_table, heuristic_h1, goal_table)\n",
        "if path_h1:\n",
        "    for idx, state in enumerate(path_h1):\n",
        "        print(f\"Iteration {idx}:\")\n",
        "        for stack in state:\n",
        "            print(stack)\n",
        "        print(\"------\")\n",
        "    print(\"H1 Cost:\", heuristic_h1(path_h1[-1], goal_table))\n",
        "else:\n",
        "    print(\"No solution found for H1.\")\n",
        "\n",
        "print(\"\\nHill Climbing with H2:\")\n",
        "path_h2 = hill_climbing_with_path(initial_table, heuristic_h2, goal_table)\n",
        "if path_h2:\n",
        "    for idx, state in enumerate(path_h2):\n",
        "        print(f\"Iteration {idx}:\")\n",
        "        for stack in state:\n",
        "            print(stack)\n",
        "        print(\"------\")\n",
        "    print(\"H2 Cost:\", heuristic_h2(path_h2[-1], goal_table))\n",
        "else:\n",
        "    print(\"No solution found for H2.\")\n"
      ],
      "metadata": {
        "colab": {
          "base_uri": "https://localhost:8080/"
        },
        "id": "syxDc7gO2Bb7",
        "outputId": "6cdd2dc7-93ab-4047-812b-a43815756cc1"
      },
      "execution_count": null,
      "outputs": [
        {
          "output_type": "stream",
          "name": "stdout",
          "text": [
            "Hill Climbing with H1:\n",
            "Iteration 0:\n",
            "['D', 'C', 'B', 'A']\n",
            "['F', 'E']\n",
            "------\n",
            "Iteration 1:\n",
            "['D', 'C', 'B', 'A', 'E']\n",
            "['F']\n",
            "------\n",
            "H1 Cost: 0\n",
            "\n",
            "Hill Climbing with H2:\n",
            "Iteration 0:\n",
            "['D', 'C', 'B', 'A']\n",
            "['F', 'E']\n",
            "------\n",
            "Iteration 1:\n",
            "['D', 'C', 'B']\n",
            "['F', 'E', 'A']\n",
            "------\n",
            "Iteration 2:\n",
            "['D', 'C']\n",
            "['F', 'E', 'A', 'B']\n",
            "------\n",
            "H2 Cost: 5\n"
          ]
        }
      ]
    },
    {
      "cell_type": "code",
      "source": [
        "#BFS\n",
        "import heapq\n",
        "\n",
        "def best_first_search(initial_state, heuristic, goal_state):\n",
        "  OPEN = [(initial_state, 0)]\n",
        "  CLOSED = set()\n",
        "  while OPEN:\n",
        "    current_state, cost = heapq.heappop(OPEN)\n",
        "    if current_state == goal_state:\n",
        "      return current_state\n",
        "    CLOSED.add(tuple(map(tuple, current_state)))\n",
        "    neighbors = generate_neighbors(current_state)\n",
        "    for neighbor in neighbors:\n",
        "      if tuple(map(tuple, neighbor)) not in CLOSED:\n",
        "        if neighbor not in (state for state, _ in OPEN):\n",
        "          heapq.heappush(OPEN, (neighbor, heuristic(neighbor, goal_state)))\n",
        "  return None"
      ],
      "metadata": {
        "id": "9KdLxzA-s1kz"
      },
      "execution_count": null,
      "outputs": []
    },
    {
      "cell_type": "code",
      "source": [
        "print(\"Best First Search with H1:\")\n",
        "solution_h1_bfs = best_first_search(initial_table, heuristic_h1, goal_table)\n",
        "if solution_h1_bfs:\n",
        "    print(\"Solution:\", solution_h1_bfs)\n",
        "    print(\"H1 Cost:\", heuristic_h1(solution_h1_bfs, goal_table))\n",
        "else:\n",
        "    print(\"No solution found for Best First Search with H1.\")\n",
        "\n",
        "print(\"\\nBest First Search with H2:\")\n",
        "solution_h2_bfs = best_first_search(initial_table, heuristic_h2, goal_table)\n",
        "if solution_h2_bfs:\n",
        "    print(\"Solution:\", solution_h2_bfs)\n",
        "    print(\"H2 Cost:\", heuristic_h2(solution_h2_bfs, goal_table))\n",
        "else:\n",
        "    print(\"No solution found for Best First Search with H2.\")\n"
      ],
      "metadata": {
        "colab": {
          "base_uri": "https://localhost:8080/"
        },
        "id": "O9eBLDH1yICP",
        "outputId": "6cfa5b7d-8034-4172-b411-9ad606f11573"
      },
      "execution_count": null,
      "outputs": [
        {
          "output_type": "stream",
          "name": "stdout",
          "text": [
            "Best First Search with H1:\n",
            "Solution: [['D', 'C', 'B', 'E', 'A'], ['F']]\n",
            "H1 Cost: 0\n",
            "\n",
            "Best First Search with H2:\n",
            "Solution: [['D', 'C', 'B', 'E', 'A'], ['F']]\n",
            "H2 Cost: 11\n"
          ]
        }
      ]
    }
  ]
}