{
  "nbformat": 4,
  "nbformat_minor": 0,
  "metadata": {
    "colab": {
      "provenance": []
    },
    "kernelspec": {
      "name": "python3",
      "display_name": "Python 3"
    },
    "language_info": {
      "name": "python"
    }
  },
  "cells": [
    {
      "cell_type": "code",
      "execution_count": null,
      "metadata": {
        "colab": {
          "base_uri": "https://localhost:8080/"
        },
        "id": "2tIQ-seJz_gG",
        "outputId": "5d9a7580-2f05-493e-860d-a4481b06a646"
      },
      "outputs": [
        {
          "output_type": "stream",
          "name": "stdout",
          "text": [
            "Collecting fuzzywuzzy\n",
            "  Downloading fuzzywuzzy-0.18.0-py2.py3-none-any.whl (18 kB)\n",
            "Installing collected packages: fuzzywuzzy\n",
            "Successfully installed fuzzywuzzy-0.18.0\n"
          ]
        }
      ],
      "source": [
        "pip install fuzzywuzzy"
      ]
    },
    {
      "cell_type": "code",
      "source": [
        "from fuzzywuzzy import fuzz\n",
        "from fuzzywuzzy import process"
      ],
      "metadata": {
        "colab": {
          "base_uri": "https://localhost:8080/"
        },
        "id": "9oh0DLMc0AMo",
        "outputId": "88f7af57-f8ef-4a1e-84d4-637ad8916e26"
      },
      "execution_count": null,
      "outputs": [
        {
          "output_type": "stream",
          "name": "stderr",
          "text": [
            "/usr/local/lib/python3.10/dist-packages/fuzzywuzzy/fuzz.py:11: UserWarning: Using slow pure-python SequenceMatcher. Install python-Levenshtein to remove this warning\n",
            "  warnings.warn('Using slow pure-python SequenceMatcher. Install python-Levenshtein to remove this warning')\n"
          ]
        }
      ]
    },
    {
      "cell_type": "code",
      "source": [
        "pip install scikit-fuzzy"
      ],
      "metadata": {
        "colab": {
          "base_uri": "https://localhost:8080/"
        },
        "id": "2pFsoHS21jlv",
        "outputId": "5884c1e8-ee64-4a13-9c67-19565d962609"
      },
      "execution_count": null,
      "outputs": [
        {
          "output_type": "stream",
          "name": "stdout",
          "text": [
            "Collecting scikit-fuzzy\n",
            "  Downloading scikit-fuzzy-0.4.2.tar.gz (993 kB)\n",
            "\u001b[2K     \u001b[90m━━━━━━━━━━━━━━━━━━━━━━━━━━━━━━━━━━━━━━━━\u001b[0m \u001b[32m994.0/994.0 kB\u001b[0m \u001b[31m11.6 MB/s\u001b[0m eta \u001b[36m0:00:00\u001b[0m\n",
            "\u001b[?25h  Preparing metadata (setup.py) ... \u001b[?25l\u001b[?25hdone\n",
            "Requirement already satisfied: numpy>=1.6.0 in /usr/local/lib/python3.10/dist-packages (from scikit-fuzzy) (1.23.5)\n",
            "Requirement already satisfied: scipy>=0.9.0 in /usr/local/lib/python3.10/dist-packages (from scikit-fuzzy) (1.11.3)\n",
            "Requirement already satisfied: networkx>=1.9.0 in /usr/local/lib/python3.10/dist-packages (from scikit-fuzzy) (3.2.1)\n",
            "Building wheels for collected packages: scikit-fuzzy\n",
            "  Building wheel for scikit-fuzzy (setup.py) ... \u001b[?25l\u001b[?25hdone\n",
            "  Created wheel for scikit-fuzzy: filename=scikit_fuzzy-0.4.2-py3-none-any.whl size=894078 sha256=ff8806609e2f08ebc1838ab03abe788b0f18cb0e779fd143ecd9b9f8e94bff58\n",
            "  Stored in directory: /root/.cache/pip/wheels/4f/86/1b/dfd97134a2c8313e519bcebd95d3fedc7be7944db022094bc8\n",
            "Successfully built scikit-fuzzy\n",
            "Installing collected packages: scikit-fuzzy\n",
            "Successfully installed scikit-fuzzy-0.4.2\n"
          ]
        }
      ]
    },
    {
      "cell_type": "code",
      "source": [
        "import numpy as np\n",
        "import matplotlib.pyplot as plt\n",
        "import skfuzzy as fuzz"
      ],
      "metadata": {
        "id": "0Qt7nZ9H0GcK"
      },
      "execution_count": null,
      "outputs": []
    },
    {
      "cell_type": "code",
      "source": [
        "import numpy as np\n",
        "import skfuzzy as fuzz\n",
        "from skfuzzy import control as ctrl"
      ],
      "metadata": {
        "id": "hQxiYse37mp-"
      },
      "execution_count": null,
      "outputs": []
    },
    {
      "cell_type": "code",
      "source": [
        "import numpy as np\n",
        "import skfuzzy as fuzz\n",
        "from skfuzzy import control as ctrl\n",
        "\n",
        "dirt = ctrl.Antecedent(np.arange(0, 101, 1), 'dirt')\n",
        "grease = ctrl.Antecedent(np.arange(0, 101, 1), 'grease')\n",
        "washing_time = ctrl.Consequent(np.arange(0, 91, 1), 'washing_time')\n",
        "\n",
        "dirt['very_low'] = fuzz.trimf(dirt.universe, [0, 0, 20])\n",
        "dirt['low'] = fuzz.trimf(dirt.universe, [10, 30, 50])\n",
        "dirt['medium'] = fuzz.trimf(dirt.universe, [40, 60, 80])\n",
        "dirt['high'] = fuzz.trimf(dirt.universe, [70, 90, 100])\n",
        "dirt['very_high'] = fuzz.trimf(dirt.universe, [75, 100, 100])\n",
        "\n",
        "grease['low'] = fuzz.trimf(grease.universe, [0, 0, 30])\n",
        "grease['medium'] = fuzz.trimf(grease.universe, [10, 40, 70])\n",
        "grease['high'] = fuzz.trimf(grease.universe, [60, 80, 100])\n",
        "\n",
        "washing_time['short'] = fuzz.trimf(washing_time.universe, [0, 0, 30])\n",
        "washing_time['medium'] = fuzz.trimf(washing_time.universe, [20, 45, 70])\n",
        "washing_time['long'] = fuzz.trimf(washing_time.universe, [60, 90, 90])\n",
        "\n",
        "rule1 = ctrl.Rule(dirt['very_low'] & grease['low'], washing_time['short'])\n",
        "rule2 = ctrl.Rule(dirt['very_low'] & grease['medium'], washing_time['short'])\n",
        "rule3 = ctrl.Rule(dirt['very_low'] & grease['high'], washing_time['medium'])\n",
        "\n",
        "rule4 = ctrl.Rule(dirt['low'] & grease['low'], washing_time['short'])\n",
        "rule5 = ctrl.Rule(dirt['low'] & grease['medium'], washing_time['medium'])\n",
        "rule6 = ctrl.Rule(dirt['low'] & grease['high'], washing_time['medium'])\n",
        "\n",
        "rule7 = ctrl.Rule(dirt['medium'] & grease['low'], washing_time['medium'])\n",
        "rule8 = ctrl.Rule(dirt['medium'] & grease['medium'], washing_time['medium'])\n",
        "rule9 = ctrl.Rule(dirt['medium'] & grease['high'], washing_time['long'])\n",
        "\n",
        "rule10 = ctrl.Rule(dirt['high'] & grease['low'], washing_time['medium'])\n",
        "rule11 = ctrl.Rule(dirt['high'] & grease['medium'], washing_time['long'])\n",
        "rule12 = ctrl.Rule(dirt['high'] & grease['high'], washing_time['long'])\n",
        "\n",
        "rule13 = ctrl.Rule(dirt['very_high'] & grease['low'], washing_time['medium'])\n",
        "rule14 = ctrl.Rule(dirt['very_high'] & grease['medium'], washing_time['long'])\n",
        "rule15 = ctrl.Rule(dirt['very_high'] & grease['high'], washing_time['long'])\n",
        "\n",
        "washing_machine_ctrl = ctrl.ControlSystem([rule1, rule2, rule3, rule4, rule5, rule6, rule7, rule8, rule9, rule10,\n",
        "                                           rule11, rule12, rule13, rule14, rule15])\n",
        "\n",
        "washing_machine = ctrl.ControlSystemSimulation(washing_machine_ctrl)\n",
        "\n",
        "washing_machine.input['dirt'] = int(input(\"Enter dirt in range (0-100): \"))\n",
        "washing_machine.input['grease'] = int(input(\"Enter grease in range (0-100): \"))\n",
        "\n",
        "washing_machine.compute()\n",
        "\n",
        "washing_time_result = washing_machine.output['washing_time']\n",
        "print(\"Recommended washing time:\", washing_time_result, \"minutes\")"
      ],
      "metadata": {
        "colab": {
          "base_uri": "https://localhost:8080/"
        },
        "id": "IObhBqgB_RAc",
        "outputId": "2831caea-a4b1-4ef2-9d56-e311eb764866"
      },
      "execution_count": null,
      "outputs": [
        {
          "output_type": "stream",
          "name": "stdout",
          "text": [
            "Enter dirt in range (0-100): 35\n",
            "Enter grease in range (0-100): 65\n",
            "Recommended washing time: 45.00000000000001 minutes\n"
          ]
        }
      ]
    }
  ]
}