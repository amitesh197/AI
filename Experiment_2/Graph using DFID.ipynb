{
  "nbformat": 4,
  "nbformat_minor": 0,
  "metadata": {
    "colab": {
      "provenance": []
    },
    "kernelspec": {
      "name": "python3",
      "display_name": "Python 3"
    },
    "language_info": {
      "name": "python"
    }
  },
  "cells": [
    {
      "cell_type": "code",
      "execution_count": 10,
      "metadata": {
        "colab": {
          "base_uri": "https://localhost:8080/"
        },
        "id": "Tr_HJviuITLz",
        "outputId": "aa26c585-15fd-401e-dbe4-96938aaa4a5a"
      },
      "outputs": [
        {
          "output_type": "stream",
          "name": "stdout",
          "text": [
            "Enter the start node: S\n",
            "Enter the goal node: G\n",
            "Path from S to G: ['S', 'D', 'G']\n"
          ]
        }
      ],
      "source": [
        "from collections import defaultdict\n",
        "\n",
        "def dfs(graph, node, goal, depth, visited):\n",
        "    if depth == 0:\n",
        "        return False\n",
        "    if node == goal:\n",
        "        return True\n",
        "\n",
        "    mark_visited(visited, node)\n",
        "\n",
        "    for neighbor in generate_moves(graph, node):\n",
        "        if not visited[neighbor]:\n",
        "            if dfs(graph, neighbor, goal, depth - 1, visited):\n",
        "                return True\n",
        "\n",
        "    return False\n",
        "\n",
        "def dfid(graph, start, goal):\n",
        "    max_depth = 0\n",
        "\n",
        "    while True:\n",
        "        visited = defaultdict(bool)\n",
        "        if dfs(graph, start, goal, max_depth, visited):\n",
        "            return reconstruct_path(graph, start, goal, visited)\n",
        "        max_depth += 1\n",
        "\n",
        "def generate_moves(graph, node):\n",
        "    return graph[node]\n",
        "\n",
        "def set_goal(goal_node):\n",
        "    return goal_node\n",
        "\n",
        "def reconstruct_path(graph, start, goal, visited):\n",
        "    path = []\n",
        "    current = goal\n",
        "\n",
        "    while current != start:\n",
        "        path.append(current)\n",
        "        for neighbor in graph[current]:\n",
        "            if visited[neighbor]:\n",
        "                current = neighbor\n",
        "                break\n",
        "\n",
        "    path.append(start)\n",
        "    path.reverse()\n",
        "    return path\n",
        "\n",
        "def mark_visited(visited, node):\n",
        "    visited[node] = True\n",
        "\n",
        "def remove_seen(visited, node):\n",
        "    visited[node] = False\n",
        "\n",
        "graph = {\n",
        "    'S': ['A','B', 'D'],\n",
        "    'A': ['C', 'B', 'S'],\n",
        "    'B': ['A','S', 'C'],\n",
        "    'C': ['B','A'],\n",
        "    'D': ['S', 'G'],\n",
        "    'G': ['D']\n",
        "}\n",
        "\n",
        "start_node = input(\"Enter the start node: \").upper()\n",
        "goal_node = input(\"Enter the goal node: \").upper()\n",
        "\n",
        "goal = set_goal(goal_node)\n",
        "path = dfid(graph, start_node, goal)\n",
        "\n",
        "if path:\n",
        "    print(f\"Path from {start_node} to {goal_node}: {path}\")\n",
        "    # You can remove 'seen' nodes from the visited set if needed\n",
        "    for node in path:\n",
        "        remove_seen(graph, node)  # Use 'graph' instead of 'path'\n",
        "else:\n",
        "    print(f\"No path found from {start_node} to {goal_node}.\")\n"
      ]
    }
  ]
}