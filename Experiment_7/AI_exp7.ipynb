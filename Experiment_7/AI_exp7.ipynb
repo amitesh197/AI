{
  "nbformat": 4,
  "nbformat_minor": 0,
  "metadata": {
    "colab": {
      "provenance": []
    },
    "kernelspec": {
      "name": "python3",
      "display_name": "Python 3"
    },
    "language_info": {
      "name": "python"
    }
  },
  "cells": [
    {
      "cell_type": "code",
      "source": [
        "board=[]\n",
        "for i in range(9):\n",
        "  board.append(input(\"Enter X ,O or . (for blank)\"))\n",
        "print(board)"
      ],
      "metadata": {
        "id": "XqzaZDI0kauS",
        "colab": {
          "base_uri": "https://localhost:8080/"
        },
        "outputId": "04524f03-ef3e-4cbd-e08c-ec0e6e0e6444"
      },
      "execution_count": 46,
      "outputs": [
        {
          "output_type": "stream",
          "name": "stdout",
          "text": [
            "Enter X ,O or . (for blank)x\n",
            "Enter X ,O or . (for blank)o\n",
            "Enter X ,O or . (for blank)o\n",
            "Enter X ,O or . (for blank).\n",
            "Enter X ,O or . (for blank)o\n",
            "Enter X ,O or . (for blank).\n",
            "Enter X ,O or . (for blank).\n",
            "Enter X ,O or . (for blank)x\n",
            "Enter X ,O or . (for blank)x\n",
            "['x', 'o', 'o', '.', 'o', '.', '.', 'x', 'x']\n"
          ]
        }
      ]
    },
    {
      "cell_type": "code",
      "source": [
        "board=['x', 'o', 'o', '.', 'o', '.', '.', 'x', 'x']\n",
        "def print_board(board):\n",
        "    for i in range(0, 9, 3):\n",
        "        print(\" \".join(board[i:i+3]))\n",
        "print_board(board)"
      ],
      "metadata": {
        "colab": {
          "base_uri": "https://localhost:8080/"
        },
        "id": "mQw0-MB6hVYW",
        "outputId": "eb250692-68c7-4d7e-e35a-e62dfe04b410"
      },
      "execution_count": 100,
      "outputs": [
        {
          "output_type": "stream",
          "name": "stdout",
          "text": [
            "x o o\n",
            ". o .\n",
            ". x x\n"
          ]
        }
      ]
    },
    {
      "cell_type": "code",
      "source": [
        "def check(borad):\n",
        "    if (board[0] == board[1] == board[2] != \"-\") or  (board[3] == board[4] == board[5] != \"-\") or \\\n",
        "       (board[6] == board[7] == board[8] != \"-\") or  (board[0] == board[3] == board[6] != \"-\") or \\\n",
        "       (board[1] == board[4] == board[7] != \"-\") or  (board[2] == board[5] == board[8] != \"-\") or \\\n",
        "       (board[0] == board[4] == board[8] != \"-\") or  (board[2] == board[4] == board[6] != \"-\"):\n",
        "     print(\"win\")\n",
        "     return 1\n",
        "    else :\n",
        "     print(\"loose\")\n",
        "     return -1\n"
      ],
      "metadata": {
        "id": "FT_UhIpreBQr"
      },
      "execution_count": 90,
      "outputs": []
    },
    {
      "cell_type": "code",
      "source": [
        "def check_empty(board):\n",
        "    return \".\"  in board\n",
        "check_empty(board)"
      ],
      "metadata": {
        "colab": {
          "base_uri": "https://localhost:8080/"
        },
        "id": "41VThYQkqFS3",
        "outputId": "80741dcd-1e66-4819-ad87-ce019a5cdee7"
      },
      "execution_count": 91,
      "outputs": [
        {
          "output_type": "execute_result",
          "data": {
            "text/plain": [
              "True"
            ]
          },
          "metadata": {},
          "execution_count": 91
        }
      ]
    },
    {
      "cell_type": "code",
      "source": [
        "def movegen(board, player):\n",
        "    moves = []\n",
        "    for i in range(9):\n",
        "        if board[i] == \".\":\n",
        "            new_board = board.copy()\n",
        "            new_board[i] = player\n",
        "            moves.append(new_board)\n",
        "    return moves\n",
        "\n",
        "possible_moves = movegen(board, \"x\")\n",
        "\n",
        "for move in possible_moves:\n",
        "    for i in range(0, 9, 3):\n",
        "        print(\" \".join(move[i:i+3]))\n",
        "    print()\n"
      ],
      "metadata": {
        "colab": {
          "base_uri": "https://localhost:8080/"
        },
        "id": "YYeBHHGEhDDH",
        "outputId": "3779dd14-a464-4f23-90c4-3fea4f8aba6c"
      },
      "execution_count": 101,
      "outputs": [
        {
          "output_type": "stream",
          "name": "stdout",
          "text": [
            "x o o\n",
            "x o .\n",
            ". x x\n",
            "\n",
            "x o o\n",
            ". o x\n",
            ". x x\n",
            "\n",
            "x o o\n",
            ". o .\n",
            "x x x\n",
            "\n"
          ]
        }
      ]
    },
    {
      "cell_type": "code",
      "source": [
        "for board in possible_moves:\n",
        "  for i in range(0, 9, 3):\n",
        "        print(\" \".join(board[i:i+3]))\n",
        "  check(board)\n",
        "  print()"
      ],
      "metadata": {
        "colab": {
          "base_uri": "https://localhost:8080/"
        },
        "id": "taWiQ5CYjtvM",
        "outputId": "7dbd292f-3383-43c1-8486-e20e55a49651"
      },
      "execution_count": 103,
      "outputs": [
        {
          "output_type": "stream",
          "name": "stdout",
          "text": [
            "x o o\n",
            "x o .\n",
            ". x x\n",
            "loose\n",
            "\n",
            "x o o\n",
            ". o x\n",
            ". x x\n",
            "loose\n",
            "\n",
            "x o o\n",
            ". o .\n",
            "x x x\n",
            "win\n",
            "\n"
          ]
        }
      ]
    },
    {
      "cell_type": "code",
      "source": [
        "for move in possible_moves():\n",
        "  while check_empty(move)"
      ],
      "metadata": {
        "id": "-YlwGfCp_qjg"
      },
      "execution_count": null,
      "outputs": []
    }
  ]
}