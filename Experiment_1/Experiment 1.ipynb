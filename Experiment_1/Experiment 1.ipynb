{
  "nbformat": 4,
  "nbformat_minor": 0,
  "metadata": {
    "colab": {
      "provenance": []
    },
    "kernelspec": {
      "name": "python3",
      "display_name": "Python 3"
    },
    "language_info": {
      "name": "python"
    }
  },
  "cells": [
    {
      "cell_type": "code",
      "execution_count": 12,
      "metadata": {
        "colab": {
          "base_uri": "https://localhost:8080/"
        },
        "id": "CQvKZYInedaz",
        "outputId": "512b7cfb-b74d-458e-865e-9cb0038a4226"
      },
      "outputs": [
        {
          "output_type": "stream",
          "name": "stdout",
          "text": [
            "1\n",
            "2\n",
            "3\n",
            "4\n",
            "0\n",
            "6\n",
            "7\n",
            "8\n",
            "9\n",
            "[[1, 2, 3], [4, 0, 6], [7, 8, 9]]\n"
          ]
        }
      ],
      "source": [
        "import numpy as np\n",
        "import copy\n",
        "\n",
        "matrix = [[int(input()) for x in range (3)] for y in range(3)]\n",
        "print(matrix)"
      ]
    },
    {
      "cell_type": "code",
      "source": [
        "def findblank(matrix):\n",
        "    for i in range(3):\n",
        "        for j in range(3):\n",
        "            if matrix[i][j] == 0:\n",
        "                return i, j\n",
        "\n",
        "x, y = findblank(matrix)\n",
        "print(x, y)\n"
      ],
      "metadata": {
        "colab": {
          "base_uri": "https://localhost:8080/"
        },
        "id": "U33dkG4qeeI8",
        "outputId": "74e2d8f0-faf1-4ccf-bb98-327a2b3056f8"
      },
      "execution_count": 14,
      "outputs": [
        {
          "output_type": "stream",
          "name": "stdout",
          "text": [
            "1 1\n"
          ]
        }
      ]
    },
    {
      "cell_type": "code",
      "source": [
        "def move_up(matrix):\n",
        "  i,j=findblank(matrix)\n",
        "  newmatrix=copy.deepcopy(matrix)\n",
        "  if i>0:\n",
        "    temp=newmatrix[i-1][j]\n",
        "    newmatrix[i-1][j]=newmatrix[i][j]\n",
        "    newmatrix[i][j]=temp\n",
        "  print(newmatrix)\n",
        "move_up(matrix)\n",
        "\n"
      ],
      "metadata": {
        "colab": {
          "base_uri": "https://localhost:8080/"
        },
        "id": "85KZJqZ1hTWw",
        "outputId": "a55ca60e-fbce-4473-a631-eddf22ced586"
      },
      "execution_count": 15,
      "outputs": [
        {
          "output_type": "stream",
          "name": "stdout",
          "text": [
            "[[1, 0, 3], [4, 2, 6], [7, 8, 9]]\n"
          ]
        }
      ]
    },
    {
      "cell_type": "code",
      "source": [
        "def move_down(matrix):\n",
        "  i,j=findblank(matrix)\n",
        "  newmatrix1=copy.deepcopy(matrix)\n",
        "  if i<2:\n",
        "    temp=newmatrix1[i+1][j]\n",
        "    newmatrix1[i+1][j]=newmatrix1[i][j]\n",
        "    newmatrix1[i][j]=temp\n",
        "  print(newmatrix1)\n",
        "move_down(matrix)\n",
        "\n"
      ],
      "metadata": {
        "colab": {
          "base_uri": "https://localhost:8080/"
        },
        "id": "xwFph9DSiEq2",
        "outputId": "d175ee1f-52fc-4bc0-900d-37e4caeb1304"
      },
      "execution_count": 16,
      "outputs": [
        {
          "output_type": "stream",
          "name": "stdout",
          "text": [
            "[[1, 2, 3], [4, 8, 6], [7, 0, 9]]\n"
          ]
        }
      ]
    },
    {
      "cell_type": "code",
      "source": [
        "def move_left(matrix):\n",
        "  i,j=findblank(matrix)\n",
        "  newmatrix3=copy.deepcopy(matrix)\n",
        "  if j>0:\n",
        "    temp=newmatrix3[i][j-1]\n",
        "    newmatrix3[i][j-1]=newmatrix3[i][j]\n",
        "    newmatrix3[i][j]=temp\n",
        "  print(newmatrix3)\n",
        "move_left(matrix)\n",
        "\n"
      ],
      "metadata": {
        "colab": {
          "base_uri": "https://localhost:8080/"
        },
        "id": "YftVEkdWiHMA",
        "outputId": "10461b6f-85e4-49b2-d13e-c549f15c7234"
      },
      "execution_count": 17,
      "outputs": [
        {
          "output_type": "stream",
          "name": "stdout",
          "text": [
            "[[1, 2, 3], [0, 4, 6], [7, 8, 9]]\n"
          ]
        }
      ]
    },
    {
      "cell_type": "code",
      "source": [
        "def move_right(matrix):\n",
        "  i,j=findblank(matrix)\n",
        "  newmatrix4=copy.deepcopy(matrix)\n",
        "  if j<2:\n",
        "    temp=newmatrix4[i][j+1]\n",
        "    newmatrix4[i][j+1]=newmatrix4[i][j]\n",
        "    newmatrix4[i][j]=temp\n",
        "  print(newmatrix4)\n",
        "move_right(matrix)\n"
      ],
      "metadata": {
        "colab": {
          "base_uri": "https://localhost:8080/"
        },
        "id": "z8WK5jmviKdv",
        "outputId": "46d867fc-399f-4301-db02-006ea5588109"
      },
      "execution_count": 21,
      "outputs": [
        {
          "output_type": "stream",
          "name": "stdout",
          "text": [
            "[[1, 2, 3], [4, 6, 0], [7, 8, 9]]\n"
          ]
        }
      ]
    },
    {
      "cell_type": "code",
      "source": [
        "def movgen(matrix):\n",
        "  move_up(matrix)\n",
        "  move_down(matrix)\n",
        "  move_left(matrix)\n",
        "  move_right(matrix)\n",
        "\n",
        "movgen(matrix)"
      ],
      "metadata": {
        "colab": {
          "base_uri": "https://localhost:8080/"
        },
        "id": "WyfgbqkJiMbs",
        "outputId": "da25ac4a-91d3-4013-f5dd-5d3e9ba6fea7"
      },
      "execution_count": 22,
      "outputs": [
        {
          "output_type": "stream",
          "name": "stdout",
          "text": [
            "[[1, 0, 3], [4, 2, 6], [7, 8, 9]]\n",
            "[[1, 2, 3], [4, 8, 6], [7, 0, 9]]\n",
            "[[1, 2, 3], [0, 4, 6], [7, 8, 9]]\n",
            "[[1, 2, 3], [4, 6, 0], [7, 8, 9]]\n"
          ]
        }
      ]
    }
  ]
}