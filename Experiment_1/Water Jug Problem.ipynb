{
  "nbformat": 4,
  "nbformat_minor": 0,
  "metadata": {
    "colab": {
      "provenance": []
    },
    "kernelspec": {
      "name": "python3",
      "display_name": "Python 3"
    },
    "language_info": {
      "name": "python"
    }
  },
  "cells": [
    {
      "cell_type": "code",
      "execution_count": 3,
      "metadata": {
        "colab": {
          "base_uri": "https://localhost:8080/"
        },
        "id": "29TGqilPAbDL",
        "outputId": "160abd6b-c6d0-46cd-c007-a75655d27153"
      },
      "outputs": [
        {
          "output_type": "stream",
          "name": "stdout",
          "text": [
            "enter the capacities of jug\n",
            "3\n",
            "5\n",
            "8\n",
            "[3 5 8]\n",
            "[0, 0, 8]\n",
            "\n",
            "Filling jug 1\n",
            "[3, 0, 5]\n",
            "\n",
            "Filling jug 2\n",
            "[0, 5, 3]\n",
            "\n",
            "Filling jug 1 then 2\n",
            "[3, 5, 0]\n",
            "\n",
            "Filling jug 2 then 1\n",
            "[3, 5, 0]\n",
            "\n",
            "Filling jug 1\n",
            "[3, 0, 5]\n",
            "\n",
            "Filling jug 2\n",
            "[0, 5, 3]\n",
            "\n",
            "Filling jug 1 then 2\n",
            "[3, 5, 0]\n",
            "\n",
            "Filling jug 2 then 1\n",
            "[3, 5, 0]\n"
          ]
        }
      ],
      "source": [
        "import numpy as np\n",
        "import copy\n",
        "\n",
        "start=[0,0,0]\n",
        "cap=[0,0,0]\n",
        "\n",
        "print(\"enter the capacities of jug\")\n",
        "\n",
        "for i in range(3):\n",
        "    cap[i]=int(input())\n",
        "\n",
        "cap=np.sort(cap)\n",
        "print(cap)\n",
        "\n",
        "start[2]=cap[2]\n",
        "print(start)\n",
        "\n",
        "def filljug1(start,cap):\n",
        "    print(\"\\nFilling jug 1\")\n",
        "    temp = copy.deepcopy(start)\n",
        "    temp[0], temp[2] = cap[0],temp[2]-cap[0]\n",
        "    print(temp)\n",
        "\n",
        "filljug1(start,cap)\n",
        "\n",
        "def filljug2(start,cap):\n",
        "    print(\"\\nFilling jug 2\")\n",
        "    temp = copy.deepcopy(start)\n",
        "    temp[1], temp[2] = cap[1],temp[2]-cap[1]\n",
        "    print(temp)\n",
        "\n",
        "filljug2(start,cap)\n",
        "\n",
        "def filljug12(start,cap):\n",
        "    print(\"\\nFilling jug 1 then 2\")\n",
        "    temp = copy.deepcopy(start)\n",
        "    temp[0], temp[2] = cap[0],temp[2]-cap[0]\n",
        "    if cap[1]<temp[2]:\n",
        "      temp[1], temp[2] = cap[1],temp[2]-cap[1]\n",
        "    if cap[1]>=temp[2]:\n",
        "      temp[1], temp[2] = temp[2],0\n",
        "\n",
        "    print(temp)\n",
        "\n",
        "filljug12(start,cap)\n",
        "\n",
        "def filljug21(start,cap):\n",
        "    print(\"\\nFilling jug 2 then 1\")\n",
        "    temp = copy.deepcopy(start)\n",
        "    temp[1], temp[2] = cap[1],temp[2]-cap[1]\n",
        "    if cap[0]<temp[2]:\n",
        "      temp[0], temp[2] = cap[1],temp[2]-cap[1]\n",
        "    if cap[0]>=temp[2]:\n",
        "      temp[0], temp[2] = temp[2],0\n",
        "\n",
        "    print(temp)\n",
        "\n",
        "filljug21(start,cap)\n",
        "\n",
        "def movegen(start,cap):\n",
        "  filljug1(start,cap)\n",
        "  filljug2(start,cap)\n",
        "  filljug12(start,cap)\n",
        "  filljug21(start,cap)\n",
        "\n",
        "movegen(start,cap)"
      ]
    }
  ]
}