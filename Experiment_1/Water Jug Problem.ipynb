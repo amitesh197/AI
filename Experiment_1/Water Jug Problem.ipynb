{
  "nbformat": 4,
  "nbformat_minor": 0,
  "metadata": {
    "colab": {
      "provenance": []
    },
    "kernelspec": {
      "name": "python3",
      "display_name": "Python 3"
    },
    "language_info": {
      "name": "python"
    }
  },
  "cells": [
    {
      "cell_type": "code",
      "source": [
        "def next_states2(state):\n",
        "    a, b, c = state\n",
        "    next_states = []\n",
        "\n",
        "    # Pour operations from A to B and C\n",
        "    next_states.append((0, b + a, c)) if a + b <= y else next_states.append((a - (y - b), y, c))\n",
        "    next_states.append((0, b, c + a)) if a + c <= z else next_states.append((a - (z - c), b, z))\n",
        "\n",
        "    # Pour operations from B to A and C\n",
        "    next_states.append((a + b, 0, c)) if b + a <= x else next_states.append((x, b - (x - a), c))\n",
        "    next_states.append((a, 0, c + b)) if b + c <= z else next_states.append((a, b - (z - c), z))\n",
        "\n",
        "    # Pour operations from C to A and B\n",
        "    next_states.append((a + c, b, 0)) if c + a <= x else next_states.append((x, b, c - (x - a)))\n",
        "    next_states.append((a, b + c, 0)) if c + b <= y else next_states.append((a, y, c - (y - b)))\n",
        "\n",
        "    return next_states\n",
        "\n",
        "def bfs(initial_state):\n",
        "    q = [(initial_state, [])]\n",
        "    visited = set()\n",
        "\n",
        "    while q:\n",
        "        state, path = q.pop(0)\n",
        "        visited.add(state)\n",
        "\n",
        "        if goal(state):\n",
        "            print(\"\\n\".join(map(str, path + [state])))\n",
        "            break\n",
        "\n",
        "        for next_state in next_states2(state):\n",
        "            if next_state not in visited:\n",
        "                q.append((next_state, path + [state]))\n",
        "\n",
        "def goal(state):\n",
        "    return state[0] == 4 or state[1] == 4\n",
        "\n",
        "try:\n",
        "    x = int(input(\"Enter the capacity of the 1st jug: \"))\n",
        "    y = int(input(\"Enter the capacity of the 2nd jug: \"))\n",
        "    z = int(input(\"Enter the capacity of the 3rd jug (initially full): \"))\n",
        "\n",
        "    initial_state = (0, 0, z)\n",
        "    bfs(initial_state)\n",
        "\n",
        "except ValueError:\n",
        "    print(\"Invalid input. Please enter integer capacities for the jugs.\")\n"
      ],
      "metadata": {
        "colab": {
          "base_uri": "https://localhost:8080/"
        },
        "id": "Iy0q-a_tDeWJ",
        "outputId": "678ff72f-1578-426b-f2e6-47fd06c84164"
      },
      "execution_count": 24,
      "outputs": [
        {
          "output_type": "stream",
          "name": "stdout",
          "text": [
            "Enter the capacity of the 1st jug: 5\n",
            "Enter the capacity of the 2nd jug: 4\n",
            "Enter the capacity of the 3rd jug (initially full): 8\n",
            "(0, 0, 8)\n",
            "(0, 4, 4)\n"
          ]
        }
      ]
    }
  ]
}