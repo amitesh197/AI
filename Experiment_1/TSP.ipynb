{
  "nbformat": 4,
  "nbformat_minor": 0,
  "metadata": {
    "colab": {
      "provenance": []
    },
    "kernelspec": {
      "name": "python3",
      "display_name": "Python 3"
    },
    "language_info": {
      "name": "python"
    }
  },
  "cells": [
    {
      "cell_type": "code",
      "execution_count": 2,
      "metadata": {
        "colab": {
          "base_uri": "https://localhost:8080/"
        },
        "id": "i61f6pGVEEa-",
        "outputId": "4f4a69a2-6c23-488e-8165-4eec30c33551"
      },
      "outputs": [
        {
          "output_type": "stream",
          "name": "stdout",
          "text": [
            "Enter the number of cities: 4\n",
            "Enter coordinates for city 1 (x,  y): 0 0\n",
            "Enter coordinates for city 2 (x,  y): 2 4\n",
            "Enter coordinates for city 3 (x,  y): 5 2\n",
            "Enter coordinates for city 4 (x,  y): 1 1\n",
            "Best tour order: [2, 1, 3, 0]\n",
            "Total distance: 13.567207305139966\n"
          ]
        }
      ],
      "source": [
        "import numpy as np\n",
        "\n",
        "def distance(point1, point2):\n",
        "    return np.linalg.norm(np.array(point1) - np.array(point2))\n",
        "\n",
        "def total_distance(path, points):\n",
        "    dist = 0\n",
        "    for i in range(len(path) - 1):\n",
        "        dist += distance(points[path[i]], points[path[i + 1]])\n",
        "    dist += distance(points[path[-1]], points[path[0]])\n",
        "    return dist\n",
        "\n",
        "def move_gen(path):\n",
        "    neighbors = []\n",
        "    for i in range(len(path)):\n",
        "        for j in range(i + 1, len(path)):\n",
        "            new_path = path[:]\n",
        "            new_path[i], new_path[j] = new_path[j], new_path[i]\n",
        "            neighbors.append(new_path)\n",
        "    return neighbors\n",
        "\n",
        "def goal_test(path, points):\n",
        "    return len(path) == len(points) and total_distance(path, points) < float('inf')\n",
        "\n",
        "def tsp_solver(points):\n",
        "    num_cities = len(points)\n",
        "    initial_path = list(range(num_cities))\n",
        "    current_path = initial_path\n",
        "    current_distance = total_distance(current_path, points)\n",
        "\n",
        "    while True:\n",
        "        neighbors = move_gen(current_path)\n",
        "        found_better_path = False\n",
        "\n",
        "        for neighbor in neighbors:\n",
        "            neighbor_distance = total_distance(neighbor, points)\n",
        "            if neighbor_distance < current_distance:\n",
        "                current_path = neighbor\n",
        "                current_distance = neighbor_distance\n",
        "                found_better_path = True\n",
        "\n",
        "        if not found_better_path:\n",
        "            break\n",
        "\n",
        "    return current_path, current_distance\n",
        "\n",
        "if __name__ == \"__main__\":\n",
        "    num_cities = int(input(\"Enter the number of cities: \"))\n",
        "    cities = []\n",
        "\n",
        "    for i in range(num_cities):\n",
        "        x, y = map(int, input(f\"Enter coordinates for city {i + 1} (x,  y): \").split())\n",
        "        cities.append((x, y))\n",
        "\n",
        "    best_path, best_distance = tsp_solver(cities)\n",
        "\n",
        "    print(\"Best tour order:\", best_path)\n",
        "    print(\"Total distance:\", best_distance)\n"
      ]
    },
    {
      "cell_type": "code",
      "source": [],
      "metadata": {
        "id": "16_qy4cKEEr0"
      },
      "execution_count": null,
      "outputs": []
    }
  ]
}